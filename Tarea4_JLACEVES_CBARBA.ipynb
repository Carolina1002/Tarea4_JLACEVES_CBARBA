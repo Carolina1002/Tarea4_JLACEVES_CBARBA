{
 "cells": [
  {
   "cell_type": "markdown",
   "metadata": {},
   "source": [
    "<img style=\"float: left; margin: 30px 15px 15px 15px;\" src=\"https://pngimage.net/wp-content/uploads/2018/06/logo-iteso-png-5.png\" width=\"300\" height=\"500\" /> \n",
    "    \n",
    "    \n",
    "### <font color='navy'> Simulación de procesos financieros. \n",
    "\n",
    "**Nombres:** Carolina Barba Anaya, Leonardo Aceves.\n",
    "\n",
    "**Fecha:** 21 de septiembre 2021\n",
    "\n",
    "**Expediente** : 712626 y .\n",
    "**Profesor:** Oscar David Jaramillo Zuluaga.\n",
    "    \n",
    "**Link Github**: https://github.com/leonardoaceves/Tarea4_JLACEVES_CBARBA.git\n",
    "\n",
    "# Tarea 4: Clase 7"
   ]
  },
  {
   "cell_type": "markdown",
   "metadata": {},
   "source": [
    "### Ejercicio 1: \n",
    "Como ejemplo simple de una simulación de Monte Carlo, considere calcular la probabilidad de una suma particular del lanzamiento de tres dados (cada dado tiene valores del uno al seis). Además cada dado tiene las siguientes carácterísticas: el primer dado no está cargado (distribución uniforme todos son equiprobables); el segundo y tercer dado están cargados basados en una distribución binomial con parámetros (`n=5, p=0.5` y `n=5, p=0.2`). Calcule la probabilidad de que la suma resultante sea 7, 14 o 18. "
   ]
  },
  {
   "cell_type": "code",
   "execution_count": 1,
   "metadata": {},
   "outputs": [],
   "source": [
    "import numpy as np\n",
    "import scipy.stats as st"
   ]
  },
  {
   "cell_type": "code",
   "execution_count": 4,
   "metadata": {},
   "outputs": [],
   "source": [
    "# Código de solución estudiante 1\n"
   ]
  },
  {
   "cell_type": "code",
   "execution_count": 3,
   "metadata": {},
   "outputs": [
    {
     "name": "stdout",
     "output_type": "stream",
     "text": [
      "Probabilidad de que la suma sea 7:  12.588 %\n",
      "Probabilidad de que la suma sea 14:  1.359 %\n",
      "Probabilidad de que la suma sea 18:  0.0 %\n"
     ]
    }
   ],
   "source": [
    "# Código de solución estudiante 2\n",
    "Dado_1 = np.random.randint(1, 7, 100000)\n",
    "Dado_2 = st.binom(n = 5, p = 0.5, loc = 1).rvs(size = 100000)\n",
    "Dado_3 = st.binom(n = 5, p = 0.2, loc = 1).rvs(size = 100000)\n",
    "suma = Dado_1 + Dado_2 + Dado_3 \n",
    "Prob7 = len(suma[suma == 7]) / len(suma)\n",
    "Prob14 = len(suma[suma == 14]) / len(suma)\n",
    "Prob18 = len(suma[suma== 18]) / len(suma)\n",
    "print(\"Probabilidad de que la suma sea 7: \", (Prob7*100),\"%\")\n",
    "print(\"Probabilidad de que la suma sea 14: \", (Prob14*100),\"%\")\n",
    "print(\"Probabilidad de que la suma sea 18: \" ,(Prob18*100),\"%\")\n"
   ]
  },
  {
   "cell_type": "markdown",
   "metadata": {},
   "source": [
    "### Ejercicio 2: \n",
    "Premisas para la simulación:\n",
    "- Negocio de alimentos que vende bebidas y alimentos.\n",
    "- Negocio dentro del ITESO.\n",
    "- Negocio en cafetería central.\n",
    "- Tipo de clientes (hombres y mujeres).\n",
    "- Rentabilidad del 60%.\n",
    "\n",
    "Objetivo:\n",
    "Realizar una simulación estimado el tiempo medio que se tardaran los clientes en ser atendidos entre el horario de 6:30 a 1 pm. Además saber el consumo. \n",
    "**Analizar supuestos y limitantes**\n",
    "\n",
    "Clasificación de clientes: \n",
    "- Mujer  = 1 $\\longrightarrow$ aleatorio < 0.5\n",
    "- Hombre = 0 $\\longrightarrow$ aleatorio $\\geq$ 0.5.\n",
    "\n",
    "Condiciones iniciales:\n",
    "- Todas las distrubuciones de probabilidad se supondrán uniformes.\n",
    "- Tiempo de simulación: 6:30 am - 1:30pm $\\longrightarrow$ T = 7 horas = 25200 seg.\n",
    "- Tiempo de llegada hasta ser atendido: Min=5seg, Max=30seg.\n",
    "- Tiempo que tardan los clientes en ser atendidos:\n",
    "    - Mujer: Min = 1 min= 60seg, Max = 5 min = 300 seg\n",
    "    - Hombre: Min = 40 seg, Max = 2 min= 120 seg\n",
    "- Consumo según el tipo de cliente:\n",
    "    - Mujer: Min = 30 pesos, Max = 100 pesos\n",
    "    - Hombre: Min = 20 pesos, Max = 80 pesos\n",
    "\n",
    "Responder las siguientes preguntas basados en los datos del problema:\n",
    "1. ¿Cuáles fueron los gastos de los hombres y las mujeres en 5 días de trabajo?.\n",
    "2. ¿Cuál fue el consumo promedio de los hombres y mujeres?\n",
    "3. ¿Cuál fue el número de personas atendidas por día?\n",
    "4. ¿Cuál fue el tiempo de atención promedio?\n",
    "5. ¿Cuánto fue la ganancia promedio de la cafetería en 5 días de trabajo y su respectiva rentabilidad?"
   ]
  },
  {
   "cell_type": "code",
   "execution_count": 5,
   "metadata": {},
   "outputs": [],
   "source": [
    "# Datos del problema\n",
    "d = 5\n",
    "T = 25200\n",
    "T_at_min = 5; T_at_max = 30\n",
    "T_mujer_min = 60; T_mujer_max = 300\n",
    "T_hombre_min = 40; T_hombre_max = 120\n",
    "C_mujer_min = 30; C_mujer_max = 100\n",
    "C_hombre_min = 20; C_hombre_max = 80"
   ]
  },
  {
   "cell_type": "code",
   "execution_count": null,
   "metadata": {},
   "outputs": [],
   "source": [
    "# Código de solución estudiante 1\n",
    ".\n",
    ".\n",
    ".\n",
    ".\n"
   ]
  },
  {
   "cell_type": "code",
   "execution_count": 6,
   "metadata": {},
   "outputs": [],
   "source": [
    "# Código de solución estudiante 2\n",
    "np.random.seed(123) \n",
    "n_esce = 1000\n",
    "n_alea = [np.random.random(n_esce) for i in range(d)] \n",
    "dias_d = [np.array([0 if n_alea[i][n] >= 0.5 else 1 for n in range(n_esce)]) for i in range(d)]\n",
    "                   \n",
    "consumo_m = st.uniform(loc = C_mujer_min, scale = C_mujer_max - C_mujer_min).rvs(size = [n_esce, d], random_state = 123)\n",
    "          \n",
    "consumo_h = st.uniform(loc = C_hombre_min, scale = C_hombre_max - C_hombre_min).rvs(size = [n_esce, d], random_state = 123)\n",
    "           \n",
    "T_at_mujer_min = T_at_min + T_mujer_min \n",
    "T_at_mujer_max = T_at_max + T_mujer_max \n",
    "T_at_hombre_min = T_at_min + T_hombre_min \n",
    "T_at_hombre_max = T_at_max + T_hombre_max \n",
    "T_mujer = st.uniform(loc = T_at_mujer_min, scale = T_at_mujer_max - T_at_mujer_min).rvs(size = [n_esce, d], \n",
    "          random_state = 123) \n",
    "T_hombre = st.uniform(loc = T_at_hombre_min, scale = T_at_hombre_max - T_at_hombre_min).rvs(size = [n_esce, d],\n",
    "           random_state = 123) \n",
    "tmps = [[T_hombre.T[i][n] if dias_d[i][n] == 0 else T_mujer.T[i][n] for n in range(n_esce)] for i in range(d)]\n",
    "          \n",
    "personas = [[\"person\" if np.array(tmps)[i].cumsum()[n] <= T else None for i in range(d)] for n in range(n_esce)]\n",
    "                  \n"
   ]
  },
  {
   "cell_type": "code",
   "execution_count": 7,
   "metadata": {},
   "outputs": [
    {
     "data": {
      "text/plain": [
       "([178, 169, 164, 160, 176], 148.56574803547173)"
      ]
     },
     "execution_count": 7,
     "metadata": {},
     "output_type": "execute_result"
    }
   ],
   "source": [
    "p_num = [list(np.array(personas).T[i]).count(\"person\") for i in range(d)]\n",
    "\n",
    "dia_1 = dias_d[0][:p_num[0]] \n",
    "dia_2 = dias_d[1][:p_num[1]] \n",
    "dia_3 = dias_d[2][:p_num[2]] \n",
    "dia_4 = dias_d[3][:p_num[3]] \n",
    "dia_5 = dias_d[4][:p_num[4]] \n",
    "t_d = [dia_1, dia_2, dia_3, dia_4, dia_5]\n",
    "tmps2 = [[T_hombre.T[i][n] if t_d[i][n] == 0 else T_mujer.T[i][n] for n in range(p_num[i])] for i in range(d)]\n",
    "           \n",
    "p_tiempo = np.array(list(map(lambda x: np.array(x).mean(), tmps2))).mean()\n",
    "              \n",
    "p_num, p_tiempo"
   ]
  },
  {
   "cell_type": "code",
   "execution_count": 8,
   "metadata": {},
   "outputs": [
    {
     "data": {
      "text/plain": [
       "(65.47776471731973, 27640.883526454185, 50.43628365517978, 21312.6771069692)"
      ]
     },
     "execution_count": 8,
     "metadata": {},
     "output_type": "execute_result"
    }
   ],
   "source": [
    "consumo = [[consumo_h.T[i][n] if t_d[i][n] == 0 else consumo_m.T[i][n] for n in range(p_num[i])] for i in range(d)]\n",
    "          \n",
    "cons_mc = np.array(t_d, dtype = object) * np.array(consumo, dtype = object) \n",
    "                    \n",
    "cons_mn = [[cons_mc[i][n] if cons_mc[i][n] != 0 else np.nan for n in range(p_num[i])] \n",
    "                    for i in range(d)] \n",
    "pm_cons = np.array(list(map(lambda x: np.array(x)[~ np.isnan(x)].mean(), cons_mn))).mean()\n",
    "\n",
    "sum_consm = np.array(list(map(lambda x: np.array(x)[~ np.isnan(x)].sum(), cons_mn))).sum()\n",
    "\n",
    "r_dias = [np.array([0 if t_d[i][n] == 1 else 1 for n in range(p_num[i])]) for i in range(d)]\n",
    "              \n",
    "cons_hc = np.array(r_dias, dtype = object) * np.array(consumo, dtype = object) \n",
    "                    \n",
    "cons_hn = [[cons_hc[i][n] if cons_hc[i][n] != 0 else np.nan for n in range(p_num[i])] \n",
    "                    for i in range(d)] \n",
    "ph_cons = np.array(list(map(lambda x: np.array(x)[~ np.isnan(x)].mean(), cons_hn))).mean()\n",
    "\n",
    "sum_consh = np.array(list(map(lambda x: np.array(x)[~ np.isnan(x)].sum(), cons_hn))).sum()\n",
    "\n",
    "pm_cons, sum_consm, ph_cons, sum_consh"
   ]
  },
  {
   "cell_type": "code",
   "execution_count": 9,
   "metadata": {},
   "outputs": [
    {
     "data": {
      "text/plain": [
       "(9790.712126684677, 5874.427276010806)"
      ]
     },
     "execution_count": 9,
     "metadata": {},
     "output_type": "execute_result"
    }
   ],
   "source": [
    "ingreso_p = np.array(list(map(lambda x: np.array(x).sum(), consumo))).mean()\n",
    "rentabilidad = ingreso_p*.6\n",
    "ingreso_p, rentabilidad"
   ]
  },
  {
   "cell_type": "markdown",
   "metadata": {},
   "source": [
    "**Responder las siguientes preguntas basados en los datos del problema:**\n",
    "1. ¿Cuáles fueron los gastos de los hombres y las mujeres en 5 días de trabajo?.\n",
    "\n",
    "Hombres: 21312.3771 pesos\n",
    "\n",
    "Mujeres: 27640.8835 pesos \n",
    "\n",
    "2. ¿Cuál fue el consumo promedio de los hombres y mujeres?\n",
    "\n",
    "Hombres: 50.4362 pesos diarios\n",
    "\n",
    "Mujeres: 65.4777 pesos diarios\n",
    "\n",
    "3. ¿Cuál fue el número de personas atendidas por día?\n",
    "\n",
    "Dia 1: 178\n",
    "\n",
    "Dia 2: 169\n",
    "\n",
    "Dia 3: 164\n",
    "\n",
    "Dia 4: 160\n",
    "\n",
    "Dia 5: 176\n",
    "\n",
    "4. ¿Cuál fue el tiempo de atención promedio?\n",
    "\n",
    "Fue de 148.56 sg por persona \n",
    "\n",
    "5. ¿Cuánto fue la ganancia promedio de la cafetería en 5 días de trabajo y su respectiva rentabilidad?\n",
    "\n",
    "Ganancia promedio: 9790.7121\n",
    "\n",
    "Rentabilidad del 60% : 5874.4272"
   ]
  },
  {
   "cell_type": "code",
   "execution_count": null,
   "metadata": {},
   "outputs": [],
   "source": []
  }
 ],
 "metadata": {
  "kernelspec": {
   "display_name": "Python 3",
   "language": "python",
   "name": "python3"
  },
  "language_info": {
   "codemirror_mode": {
    "name": "ipython",
    "version": 3
   },
   "file_extension": ".py",
   "mimetype": "text/x-python",
   "name": "python",
   "nbconvert_exporter": "python",
   "pygments_lexer": "ipython3",
   "version": "3.8.8"
  }
 },
 "nbformat": 4,
 "nbformat_minor": 2
}
